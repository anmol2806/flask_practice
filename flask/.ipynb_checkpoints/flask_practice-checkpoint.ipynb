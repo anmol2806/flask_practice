{
 "cells": [
  {
   "cell_type": "code",
   "execution_count": 3,
   "metadata": {},
   "outputs": [
    {
     "name": "stdout",
     "output_type": "stream",
     "text": [
      " * Serving Flask app \"__main__\" (lazy loading)\n",
      " * Environment: production\n",
      "   WARNING: This is a development server. Do not use it in a production deployment.\n",
      "   Use a production WSGI server instead.\n",
      " * Debug mode: on\n"
     ]
    },
    {
     "name": "stderr",
     "output_type": "stream",
     "text": [
      " * Restarting with windowsapi reloader\n"
     ]
    },
    {
     "ename": "SystemExit",
     "evalue": "1",
     "output_type": "error",
     "traceback": [
      "An exception has occurred, use %tb to see the full traceback.\n",
      "\u001b[1;31mSystemExit\u001b[0m\u001b[1;31m:\u001b[0m 1\n"
     ]
    },
    {
     "name": "stderr",
     "output_type": "stream",
     "text": [
      "C:\\Users\\hp\\anaconda3\\lib\\site-packages\\IPython\\core\\interactiveshell.py:3426: UserWarning: To exit: use 'exit', 'quit', or Ctrl-D.\n",
      "  warn(\"To exit: use 'exit', 'quit', or Ctrl-D.\", stacklevel=1)\n"
     ]
    }
   ],
   "source": [
    "from flask import  *\n",
    "\n",
    "#create object of required class\n",
    "app = Flask(__name__)\n",
    "# app is an object\n",
    "\n",
    "@app.route('/')\n",
    "def abc():\n",
    "\treturn\trender_template('login.html')\n",
    "\n",
    "@app.route('/login',methods = ['POST'])\n",
    "def login():\n",
    "\tuname=request.form['uname']\n",
    "\tpasswrd=request.form['pass']\n",
    "\tif uname== \"Anmol\" and passwrd== \"Nagpal\":\n",
    "\t\treturn render_template(\"index.html\")\n",
    "\telse:\n",
    "\t\treturn \"Welcome %s\" %uname\n",
    "\n",
    "\n",
    "# in order to execute command app.run(),whenever the program is loaded\n",
    "if __name__ ==\"__main__\":\n",
    "\tapp.run(debug=True)"
   ]
  },
  {
   "cell_type": "code",
   "execution_count": 2,
   "metadata": {},
   "outputs": [
    {
     "name": "stdout",
     "output_type": "stream",
     "text": [
      "Collecting flask\n",
      "  Using cached Flask-1.1.2-py2.py3-none-any.whl (94 kB)\n",
      "Requirement already satisfied: Jinja2>=2.10.1 in c:\\users\\hp\\anaconda3\\lib\\site-packages (from flask) (2.11.2)\n",
      "Requirement already satisfied: Werkzeug>=0.15 in c:\\users\\hp\\anaconda3\\lib\\site-packages (from flask) (1.0.1)\n",
      "Requirement already satisfied: click>=5.1 in c:\\users\\hp\\anaconda3\\lib\\site-packages (from flask) (7.1.2)\n",
      "Requirement already satisfied: itsdangerous>=0.24 in c:\\users\\hp\\anaconda3\\lib\\site-packages (from flask) (1.1.0)\n",
      "Requirement already satisfied: MarkupSafe>=0.23 in c:\\users\\hp\\anaconda3\\lib\\site-packages (from Jinja2>=2.10.1->flask) (1.1.1)\n",
      "Installing collected packages: flask\n",
      "Successfully installed flask-1.1.2\n"
     ]
    }
   ],
   "source": [
    "!pip install flask\n"
   ]
  },
  {
   "cell_type": "code",
   "execution_count": 4,
   "metadata": {},
   "outputs": [
    {
     "name": "stdout",
     "output_type": "stream",
     "text": [
      " * Serving Flask app \"__main__\" (lazy loading)\n",
      " * Environment: production\n",
      "   WARNING: This is a development server. Do not use it in a production deployment.\n",
      "   Use a production WSGI server instead.\n",
      " * Debug mode: off\n"
     ]
    },
    {
     "name": "stderr",
     "output_type": "stream",
     "text": [
      " * Running on http://127.0.0.1:5000/ (Press CTRL+C to quit)\n",
      "127.0.0.1 - - [01/Apr/2021 23:09:35] \"\u001b[37mGET / HTTP/1.1\u001b[0m\" 200 -\n",
      "127.0.0.1 - - [01/Apr/2021 23:09:35] \"\u001b[33mGET /favicon.ico HTTP/1.1\u001b[0m\" 404 -\n"
     ]
    }
   ],
   "source": [
    "# import module/package\n",
    "from flask import Flask\n",
    "\n",
    "#create object of required class\n",
    "app = Flask(__name__)\n",
    "# app is an object\n",
    "\n",
    "\n",
    "@app.route('/home/')\n",
    "def index1():\n",
    "    return \"Hello I am root\"\n",
    "\n",
    "\n",
    "@app.route('/')\n",
    "def index():\n",
    "    return \"Hello 122\"\n",
    "\n",
    "# in order to execute command app.run(),whenever the program is loaded\n",
    "if __name__ ==\"__main__\":\n",
    "\tapp.run()"
   ]
  },
  {
   "cell_type": "code",
   "execution_count": null,
   "metadata": {},
   "outputs": [
    {
     "name": "stdout",
     "output_type": "stream",
     "text": [
      " * Serving Flask app \"__main__\" (lazy loading)\n",
      " * Environment: production\n",
      "   WARNING: This is a development server. Do not use it in a production deployment.\n",
      "   Use a production WSGI server instead.\n",
      " * Debug mode: off\n"
     ]
    },
    {
     "name": "stderr",
     "output_type": "stream",
     "text": [
      " * Running on http://127.0.0.1:5000/ (Press CTRL+C to quit)\n",
      "127.0.0.1 - - [01/Apr/2021 23:15:56] \"\u001b[37mGET / HTTP/1.1\u001b[0m\" 200 -\n",
      "127.0.0.1 - - [01/Apr/2021 23:16:02] \"\u001b[37mPOST /login HTTP/1.1\u001b[0m\" 200 -\n",
      "127.0.0.1 - - [01/Apr/2021 23:16:06] \"\u001b[37mPOST /login HTTP/1.1\u001b[0m\" 200 -\n",
      "127.0.0.1 - - [01/Apr/2021 23:16:11] \"\u001b[37mPOST /login HTTP/1.1\u001b[0m\" 200 -\n",
      "127.0.0.1 - - [01/Apr/2021 23:16:16] \"\u001b[37mPOST /login HTTP/1.1\u001b[0m\" 200 -\n",
      "127.0.0.1 - - [01/Apr/2021 23:16:19] \"\u001b[37mPOST /login HTTP/1.1\u001b[0m\" 200 -\n",
      "127.0.0.1 - - [01/Apr/2021 23:16:25] \"\u001b[37mPOST /login HTTP/1.1\u001b[0m\" 200 -\n"
     ]
    }
   ],
   "source": [
    "from flask import *\n",
    "\n",
    "app = Flask(__name__)\n",
    "@app.route('/')\n",
    "def abc():\n",
    "    return render_template('login1.html')\n",
    "\n",
    "@app.route('/login',methods = ['POST'])\n",
    "def login():\n",
    "    uname=request.form['uname']\n",
    "    passwrd=request.form['pass']\n",
    "    if uname== \"ram\" and passwrd==\"sita\":\n",
    "        #return \"Welcome %s\" %uname\n",
    "        return render_template('welcome.html')\n",
    "\n",
    "    elif uname== \"ram\" and passwrd!=\"sita\":\n",
    "        message='Incorrect Password'\n",
    "        return render_template('login1.html',msg=message)\n",
    "\n",
    "    elif uname!= \"ram\" and passwrd==\"sita\":\n",
    "        message='Incorrect name'\n",
    "        return render_template('login1.html',msg=message)\n",
    "    else : \n",
    "        message='incorrect credentials'\n",
    "        return render_template('login1.html',msg=message)\n",
    "\n",
    "\n",
    "if __name__ == '__main__':\n",
    "\tapp.run()"
   ]
  }
 ],
 "metadata": {
  "kernelspec": {
   "display_name": "Python 3",
   "language": "python",
   "name": "python3"
  }
 },
 "nbformat": 4,
 "nbformat_minor": 4
}
