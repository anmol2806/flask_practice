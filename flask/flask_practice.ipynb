{
 "cells": [
  {
   "cell_type": "code",
   "execution_count": 2,
   "metadata": {},
   "outputs": [
    {
     "name": "stdout",
     "output_type": "stream",
     "text": [
      " * Serving Flask app \"__main__\" (lazy loading)\n",
      " * Environment: production\n",
      "   WARNING: This is a development server. Do not use it in a production deployment.\n",
      "   Use a production WSGI server instead.\n",
      " * Debug mode: on\n"
     ]
    },
    {
     "name": "stderr",
     "output_type": "stream",
     "text": [
      " * Restarting with windowsapi reloader\n"
     ]
    },
    {
     "ename": "SystemExit",
     "evalue": "1",
     "output_type": "error",
     "traceback": [
      "An exception has occurred, use %tb to see the full traceback.\n",
      "\u001b[1;31mSystemExit\u001b[0m\u001b[1;31m:\u001b[0m 1\n"
     ]
    }
   ],
   "source": [
    "from flask import  *\n",
    "\n",
    "#create object of required class\n",
    "app = Flask(__name__)\n",
    "# app is an object\n",
    "\n",
    "@app.route('/')\n",
    "def abc():\n",
    "\treturn\trender_template('login.html')\n",
    "\n",
    "@app.route('/login',methods = ['POST'])\n",
    "def login():\n",
    "\tuname=request.form['uname']\n",
    "\tpasswrd=request.form['pass']\n",
    "\tif uname== \"Anmol\" and passwrd== \"Nagpal\":\n",
    "\t\treturn render_template(\"index.html\")\n",
    "\telse:\n",
    "\t\treturn \"Welcome %s\" %uname\n",
    "\n",
    "\n",
    "# in order to execute command app.run(),whenever the program is loaded\n",
    "if __name__ ==\"__main__\":\n",
    "\tapp.run(debug=True)"
   ]
  },
  {
   "cell_type": "code",
   "execution_count": null,
   "metadata": {},
   "outputs": [],
   "source": [
    "# import module/package\n",
    "from flask import Flask\n",
    "\n",
    "#create object of required class\n",
    "app = Flask(__name__)\n",
    "# app is an object\n",
    "\n",
    "\n",
    "@app.route('/home/')\n",
    "def index1():\n",
    "    return \"Hello I am root\"\n",
    "\n",
    "\n",
    "@app.route('/')\n",
    "def index():\n",
    "    return \"Hello 122\"\n",
    "\n",
    "# in order to execute command app.run(),whenever the program is loaded\n",
    "if __name__ ==\"__main__\":\n",
    "\tapp.run()"
   ]
  },
  {
   "cell_type": "code",
   "execution_count": null,
   "metadata": {},
   "outputs": [],
   "source": [
    "from flask import *\n",
    "\n",
    "app = Flask(__name__)\n",
    "@app.route('/')\n",
    "def abc():\n",
    "\treturn render_template('login.html')\n",
    "\n",
    "@app.route('/login',methods = ['POST'])\n",
    "def login():\n",
    "\tuname=request.form['uname']\n",
    "\tpasswrd=request.form['pass']\n",
    "\tif uname== \"ram\" and passwrd==\"sita\":\n",
    "\t\t#return \"Welcome %s\" %uname\n",
    "\t\treturn render_template('welcome.html')\n",
    "\n",
    "\telif uname== \"ram\" and passwrd!=\"sita\":\n",
    "\t\tmessage='Incorrect Password'\n",
    "\t\treturn render_template('login.html',msg=message)\n",
    "\n",
    "\telif uname!= \"ram\" and passwrd==\"sita\":\n",
    "\t\tmessage='Incorrect name'\n",
    "\t\treturn render_template('login.html',msg=message)\n",
    "\telse : \n",
    "\t\tmessage='incorrect credentials'\n",
    "     \t\treturn render_template('login.html',msg=message)\n",
    "\t\t#return \" Invalid user \" \n",
    "\n",
    "if _name_ == '_main_':\n",
    "\tapp.run()"
   ]
  }
 ],
 "metadata": {
  "kernelspec": {
   "display_name": "Python 3",
   "language": "python",
   "name": "python3"
  },
  "language_info": {
   "codemirror_mode": {
    "name": "ipython",
    "version": 3
   },
   "file_extension": ".py",
   "mimetype": "text/x-python",
   "name": "python",
   "nbconvert_exporter": "python",
   "pygments_lexer": "ipython3",
   "version": "3.8.5"
  }
 },
 "nbformat": 4,
 "nbformat_minor": 4
}
