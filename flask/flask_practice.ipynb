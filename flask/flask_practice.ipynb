{
 "cells": [
  {
   "cell_type": "code",
   "execution_count": null,
   "metadata": {},
   "outputs": [],
   "source": [
    "from flask import  *\n",
    "\n",
    "#create object of required class\n",
    "app = Flask(__name__)\n",
    "# app is an object\n",
    "\n",
    "@app.route('/')\n",
    "def abc():\n",
    "\treturn\trender_template('login.html')\n",
    "\n",
    "@app.route('/login',methods = ['POST'])\n",
    "def login():\n",
    "\tuname=request.form['uname']\n",
    "\tpasswrd=request.form['pass']\n",
    "\tif uname== \"Anmol\" and passwrd== \"Nagpal\":\n",
    "\t\treturn render_template(\"index.html\")\n",
    "\telse:\n",
    "\t\treturn \"Welcome %s\" %uname\n",
    "\n",
    "\n",
    "# in order to execute command app.run(),whenever the program is loaded\n",
    "if __name__ ==\"__main__\":\n",
    "\tapp.run(debug=True)"
   ]
  },
  {
   "cell_type": "code",
   "execution_count": null,
   "metadata": {},
   "outputs": [],
   "source": [
    "!pip install flask\n"
   ]
  },
  {
   "cell_type": "code",
   "execution_count": null,
   "metadata": {},
   "outputs": [],
   "source": [
    "# import module/package\n",
    "from flask import Flask\n",
    "\n",
    "#create object of required class\n",
    "app = Flask(__name__)\n",
    "# app is an object\n",
    "\n",
    "\n",
    "@app.route('/home/')\n",
    "def index1():\n",
    "    return \"Hello I am root\"\n",
    "\n",
    "\n",
    "@app.route('/')\n",
    "def index():\n",
    "    return \"Hello 122\"\n",
    "\n",
    "# in order to execute command app.run(),whenever the program is loaded\n",
    "if __name__ ==\"__main__\":\n",
    "\tapp.run()"
   ]
  },
  {
   "cell_type": "code",
   "execution_count": null,
   "metadata": {},
   "outputs": [],
   "source": [
    "from flask import *\n",
    "\n",
    "app = Flask(__name__)\n",
    "@app.route('/')\n",
    "def abc():\n",
    "    return render_template('login1.html')\n",
    "\n",
    "@app.route('/login',methods = ['POST'])\n",
    "def login():\n",
    "    uname=request.form['uname']\n",
    "    passwrd=request.form['pass']\n",
    "    if uname== \"ram\" and passwrd==\"sita\":\n",
    "        #return \"Welcome %s\" %uname\n",
    "        return render_template('welcome.html')\n",
    "\n",
    "    elif uname== \"ram\" and passwrd!=\"sita\":\n",
    "        message='Incorrect Password'\n",
    "        return render_template('login1.html',msg=message)\n",
    "\n",
    "    elif uname!= \"ram\" and passwrd==\"sita\":\n",
    "        message='Incorrect name'\n",
    "        return render_template('login1.html',msg=message)\n",
    "    else : \n",
    "        message='incorrect credentials'\n",
    "        return render_template('login1.html',msg=message)\n",
    "\n",
    "\n",
    "if __name__ == '__main__':\n",
    "\tapp.run()"
   ]
  }
 ],
 "metadata": {
  "kernelspec": {
   "display_name": "Python 3",
   "language": "python",
   "name": "python3"
  },
  "language_info": {
   "codemirror_mode": {
    "name": "ipython",
    "version": 3
   },
   "file_extension": ".py",
   "mimetype": "text/x-python",
   "name": "python",
   "nbconvert_exporter": "python",
   "pygments_lexer": "ipython3",
   "version": "3.8.5"
  }
 },
 "nbformat": 4,
 "nbformat_minor": 4
}
